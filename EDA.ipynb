{
 "cells": [
  {
   "cell_type": "code",
   "execution_count": 2,
   "id": "e036f7cf-ccfe-479d-ba04-f3bbdd1317a0",
   "metadata": {},
   "outputs": [
    {
     "name": "stdout",
     "output_type": "stream",
     "text": [
      "   student_ID  Age  Gender  Test Score Passed Exam\n",
      "0           1   18    Male          85         Yes\n",
      "1           2   19  Female          92         Yes\n",
      "2           3   20    Male          78          No\n",
      "3           4   19  Female          88         Yes\n",
      "4           5   20    Male          76          No\n",
      "5           6   18    Male          90         Yes\n",
      "6           7   19  Female          82         Yes\n",
      "   student_ID  Age  Gender  Test Score Passed Exam\n",
      "0           1   18    Male          85         Yes\n",
      "1           2   19  Female          92         Yes\n",
      "2           3   20    Male          78          No\n",
      "3           4   19  Female          88         Yes\n",
      "4           5   20    Male          76          No\n",
      "5           6   18    Male          90         Yes\n",
      "6           7   19  Female          82         Yes\n",
      "7           8   20  Female          68          No\n",
      "8           9   18    Male          79          No\n",
      "9          10   19    Male          94         Yes\n"
     ]
    }
   ],
   "source": [
    "import pandas as pd\n",
    "dean = pd.read_csv('student_data.csv')\n",
    "print(dean.head(7))\n",
    "print(dean)"
   ]
  },
  {
   "cell_type": "code",
   "execution_count": 5,
   "id": "4d55ff61-14c3-4df1-b1cd-8431e0606d57",
   "metadata": {},
   "outputs": [
    {
     "name": "stdout",
     "output_type": "stream",
     "text": [
      "Duplicates\n",
      "Empty DataFrame\n",
      "Columns: [student_ID, Age, Gender, Test Score, Passed Exam]\n",
      "Index: []\n",
      "\n",
      "Age Duplicated Raws\n",
      "   student_ID  Age  Gender  Test Score Passed Exam\n",
      "3           4   19  Female          88         Yes\n",
      "4           5   20    Male          76          No\n",
      "5           6   18    Male          90         Yes\n",
      "6           7   19  Female          82         Yes\n",
      "7           8   20  Female          68          No\n",
      "8           9   18    Male          79          No\n",
      "9          10   19    Male          94         Yes\n"
     ]
    }
   ],
   "source": [
    "duplicates = dean[dean.duplicated()]\n",
    "print(\"Duplicates\")\n",
    "print(duplicates)\n",
    "\n",
    "#duplicate rows\n",
    "AgeDuplicate_rows = dean[dean['Age'].duplicated()]\n",
    "print(\"\\nAge Duplicated Raws\")\n",
    "print(AgeDuplicate_rows)\n",
    "\n"
   ]
  },
  {
   "cell_type": "code",
   "execution_count": null,
   "id": "f96e19a4-2b51-4cbe-9b03-6fcb5848eede",
   "metadata": {},
   "outputs": [],
   "source": []
  },
  {
   "cell_type": "code",
   "execution_count": 6,
   "id": "935848da-4e0c-467f-8477-1dc8231d733c",
   "metadata": {},
   "outputs": [
    {
     "name": "stdout",
     "output_type": "stream",
     "text": [
      "\n",
      "Unique Values in AGE Column: \n",
      "Age\n",
      "19    4\n",
      "18    3\n",
      "20    3\n",
      "Name: count, dtype: int64\n"
     ]
    }
   ],
   "source": [
    "print(\"\\nUnique Values in AGE Column: \")\n",
    "print(dean['Age'].value_counts())"
   ]
  },
  {
   "cell_type": "code",
   "execution_count": null,
   "id": "958051f5-6a5b-434d-acbe-2642c9b4159f",
   "metadata": {},
   "outputs": [],
   "source": []
  }
 ],
 "metadata": {
  "kernelspec": {
   "display_name": "Python 3 (ipykernel)",
   "language": "python",
   "name": "python3"
  },
  "language_info": {
   "codemirror_mode": {
    "name": "ipython",
    "version": 3
   },
   "file_extension": ".py",
   "mimetype": "text/x-python",
   "name": "python",
   "nbconvert_exporter": "python",
   "pygments_lexer": "ipython3",
   "version": "3.8.10"
  }
 },
 "nbformat": 4,
 "nbformat_minor": 5
}
