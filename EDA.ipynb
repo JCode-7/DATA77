{
 "cells": [
  {
   "cell_type": "code",
   "execution_count": 2,
   "id": "e036f7cf-ccfe-479d-ba04-f3bbdd1317a0",
   "metadata": {},
   "outputs": [
    {
     "name": "stdout",
     "output_type": "stream",
     "text": [
      "   student_ID  Age  Gender  Test Score Passed Exam\n",
      "0           1   18    Male          85         Yes\n",
      "1           2   19  Female          92         Yes\n",
      "2           3   20    Male          78          No\n",
      "3           4   19  Female          88         Yes\n",
      "4           5   20    Male          76          No\n",
      "5           6   18    Male          90         Yes\n",
      "6           7   19  Female          82         Yes\n",
      "   student_ID  Age  Gender  Test Score Passed Exam\n",
      "0           1   18    Male          85         Yes\n",
      "1           2   19  Female          92         Yes\n",
      "2           3   20    Male          78          No\n",
      "3           4   19  Female          88         Yes\n",
      "4           5   20    Male          76          No\n",
      "5           6   18    Male          90         Yes\n",
      "6           7   19  Female          82         Yes\n",
      "7           8   20  Female          68          No\n",
      "8           9   18    Male          79          No\n",
      "9          10   19    Male          94         Yes\n"
     ]
    }
   ],
   "source": [
    "import pandas as pd\n",
    "dean = pd.read_csv('student_data.csv')\n",
    "print(dean.head(7))\n",
    "print(dean)"
   ]
  },
  {
   "cell_type": "code",
   "execution_count": 3,
   "id": "4d55ff61-14c3-4df1-b1cd-8431e0606d57",
   "metadata": {},
   "outputs": [
    {
     "name": "stdout",
     "output_type": "stream",
     "text": [
      "Duplicates\n",
      "Empty DataFrame\n",
      "Columns: [student_ID, Age, Gender, Test Score, Passed Exam]\n",
      "Index: []\n",
      "\n",
      "Age Duplicated Raws\n",
      "   student_ID  Age  Gender  Test Score Passed Exam\n",
      "3           4   19  Female          88         Yes\n",
      "4           5   20    Male          76          No\n",
      "5           6   18    Male          90         Yes\n",
      "6           7   19  Female          82         Yes\n",
      "7           8   20  Female          68          No\n",
      "8           9   18    Male          79          No\n",
      "9          10   19    Male          94         Yes\n"
     ]
    }
   ],
   "source": [
    "duplicates = dean[dean.duplicated()]\n",
    "print(\"Duplicates\")\n",
    "print(duplicates)\n",
    "\n",
    "#duplicate rows\n",
    "AgeDuplicate_rows = dean[dean['Age'].duplicated()]\n",
    "print(\"\\nAge Duplicated Raws\")\n",
    "print(AgeDuplicate_rows)\n",
    "\n"
   ]
  },
  {
   "cell_type": "code",
   "execution_count": null,
   "id": "f96e19a4-2b51-4cbe-9b03-6fcb5848eede",
   "metadata": {},
   "outputs": [],
   "source": []
  },
  {
   "cell_type": "code",
   "execution_count": 4,
   "id": "935848da-4e0c-467f-8477-1dc8231d733c",
   "metadata": {},
   "outputs": [
    {
     "name": "stdout",
     "output_type": "stream",
     "text": [
      "\n",
      "Unique Values in AGE Column: \n",
      "Age\n",
      "19    4\n",
      "18    3\n",
      "20    3\n",
      "Name: count, dtype: int64\n"
     ]
    }
   ],
   "source": [
    "print(\"\\nUnique Values in AGE Column: \")\n",
    "print(dean['Age'].value_counts())"
   ]
  },
  {
   "cell_type": "code",
   "execution_count": null,
   "id": "958051f5-6a5b-434d-acbe-2642c9b4159f",
   "metadata": {},
   "outputs": [],
   "source": []
  },
  {
   "cell_type": "code",
   "execution_count": 7,
   "id": "a4d3188d-c080-4144-a437-457f01928664",
   "metadata": {},
   "outputs": [
    {
     "name": "stdout",
     "output_type": "stream",
     "text": [
      "student_ID     0\n",
      "Age            0\n",
      "Gender         0\n",
      "Test Score     0\n",
      "Passed Exam    0\n",
      "dtype: int64\n"
     ]
    }
   ],
   "source": [
    "import pandas as pd\n",
    "dean = pd.read_csv(\"student_data.csv\")\n",
    "null_values = dean.isnull().sum()\n",
    "print(null_values)\n"
   ]
  },
  {
   "cell_type": "code",
   "execution_count": 11,
   "id": "2c920799-7792-4c72-a597-b274257d229f",
   "metadata": {},
   "outputs": [
    {
     "name": "stdout",
     "output_type": "stream",
     "text": [
      "Null Values in the DataSet:\n",
      "StudentID      0\n",
      "Age            1\n",
      "Gender         0\n",
      "Test Score     1\n",
      "Passed Exam    0\n",
      "dtype: int64\n"
     ]
    }
   ],
   "source": [
    "import pandas as pd\n",
    "dean = pd.read_csv(\"student2data.csv\")\n",
    "null_values = dean.isnull().sum()\n",
    "print(\"Null Values in the DataSet:\")\n",
    "print(null_values)"
   ]
  },
  {
   "cell_type": "code",
   "execution_count": 12,
   "id": "9b915d32-127a-4274-85c0-a7a9454e8a75",
   "metadata": {},
   "outputs": [
    {
     "name": "stdout",
     "output_type": "stream",
     "text": [
      "Replacing empty fields with NAN\n"
     ]
    },
    {
     "data": {
      "text/html": [
       "<div>\n",
       "<style scoped>\n",
       "    .dataframe tbody tr th:only-of-type {\n",
       "        vertical-align: middle;\n",
       "    }\n",
       "\n",
       "    .dataframe tbody tr th {\n",
       "        vertical-align: top;\n",
       "    }\n",
       "\n",
       "    .dataframe thead th {\n",
       "        text-align: right;\n",
       "    }\n",
       "</style>\n",
       "<table border=\"1\" class=\"dataframe\">\n",
       "  <thead>\n",
       "    <tr style=\"text-align: right;\">\n",
       "      <th></th>\n",
       "      <th>StudentID</th>\n",
       "      <th>Age</th>\n",
       "      <th>Gender</th>\n",
       "      <th>Test Score</th>\n",
       "      <th>Passed Exam</th>\n",
       "    </tr>\n",
       "  </thead>\n",
       "  <tbody>\n",
       "    <tr>\n",
       "      <th>0</th>\n",
       "      <td>1</td>\n",
       "      <td>18.0</td>\n",
       "      <td>Male</td>\n",
       "      <td>85.0</td>\n",
       "      <td>Yes</td>\n",
       "    </tr>\n",
       "    <tr>\n",
       "      <th>1</th>\n",
       "      <td>2</td>\n",
       "      <td>19.0</td>\n",
       "      <td>Female</td>\n",
       "      <td>92.0</td>\n",
       "      <td>Yes</td>\n",
       "    </tr>\n",
       "    <tr>\n",
       "      <th>2</th>\n",
       "      <td>3</td>\n",
       "      <td>20.0</td>\n",
       "      <td>Male</td>\n",
       "      <td>78.0</td>\n",
       "      <td>No</td>\n",
       "    </tr>\n",
       "    <tr>\n",
       "      <th>3</th>\n",
       "      <td>4</td>\n",
       "      <td>19.0</td>\n",
       "      <td>Female</td>\n",
       "      <td>NaN</td>\n",
       "      <td>Yes</td>\n",
       "    </tr>\n",
       "    <tr>\n",
       "      <th>4</th>\n",
       "      <td>5</td>\n",
       "      <td>20.0</td>\n",
       "      <td>Male</td>\n",
       "      <td>76.0</td>\n",
       "      <td>No</td>\n",
       "    </tr>\n",
       "    <tr>\n",
       "      <th>5</th>\n",
       "      <td>6</td>\n",
       "      <td>18.0</td>\n",
       "      <td>Male</td>\n",
       "      <td>90.0</td>\n",
       "      <td>Yes</td>\n",
       "    </tr>\n",
       "    <tr>\n",
       "      <th>6</th>\n",
       "      <td>7</td>\n",
       "      <td>19.0</td>\n",
       "      <td>Female</td>\n",
       "      <td>82.0</td>\n",
       "      <td>Yes</td>\n",
       "    </tr>\n",
       "    <tr>\n",
       "      <th>7</th>\n",
       "      <td>8</td>\n",
       "      <td>NaN</td>\n",
       "      <td>Female</td>\n",
       "      <td>68.0</td>\n",
       "      <td>No</td>\n",
       "    </tr>\n",
       "    <tr>\n",
       "      <th>8</th>\n",
       "      <td>9</td>\n",
       "      <td>18.0</td>\n",
       "      <td>Male</td>\n",
       "      <td>79.0</td>\n",
       "      <td>No</td>\n",
       "    </tr>\n",
       "    <tr>\n",
       "      <th>9</th>\n",
       "      <td>10</td>\n",
       "      <td>19.0</td>\n",
       "      <td>Male</td>\n",
       "      <td>94.0</td>\n",
       "      <td>Yes</td>\n",
       "    </tr>\n",
       "  </tbody>\n",
       "</table>\n",
       "</div>"
      ],
      "text/plain": [
       "   StudentID   Age  Gender  Test Score Passed Exam\n",
       "0          1  18.0    Male        85.0         Yes\n",
       "1          2  19.0  Female        92.0         Yes\n",
       "2          3  20.0    Male        78.0          No\n",
       "3          4  19.0  Female         NaN         Yes\n",
       "4          5  20.0    Male        76.0          No\n",
       "5          6  18.0    Male        90.0         Yes\n",
       "6          7  19.0  Female        82.0         Yes\n",
       "7          8   NaN  Female        68.0          No\n",
       "8          9  18.0    Male        79.0          No\n",
       "9         10  19.0    Male        94.0         Yes"
      ]
     },
     "execution_count": 12,
     "metadata": {},
     "output_type": "execute_result"
    }
   ],
   "source": [
    "import pandas as pd\n",
    "dean = pd.read_csv('student2data.csv')\n",
    "print(\"Replacing empty fields with NAN\")\n",
    "dean.head(10)"
   ]
  },
  {
   "cell_type": "code",
   "execution_count": 13,
   "id": "8fa45153-7390-4402-8568-418f5780fb10",
   "metadata": {},
   "outputs": [
    {
     "name": "stdout",
     "output_type": "stream",
     "text": [
      "Filling NAN fields with 0\n",
      "   StudentID   Age  Gender  Test Score Passed Exam\n",
      "0          1  18.0    Male        85.0         Yes\n",
      "1          2  19.0  Female        92.0         Yes\n",
      "2          3  20.0    Male        78.0          No\n",
      "3          4  19.0  Female         0.0         Yes\n",
      "4          5  20.0    Male        76.0          No\n",
      "5          6  18.0    Male        90.0         Yes\n",
      "6          7  19.0  Female        82.0         Yes\n",
      "7          8   0.0  Female        68.0          No\n",
      "8          9  18.0    Male        79.0          No\n",
      "9         10  19.0    Male        94.0         Yes\n"
     ]
    }
   ],
   "source": [
    "import pandas as pd\n",
    "dean = pd.read_csv('student2data.csv')\n",
    "print(\"Filling NAN fields with 0\")\n",
    "filledData = dean.fillna(0)\n",
    "print(filledData)"
   ]
  },
  {
   "cell_type": "code",
   "execution_count": 17,
   "id": "822e2947-ddfa-4edd-9ddf-194bb94c27d6",
   "metadata": {},
   "outputs": [
    {
     "name": "stdout",
     "output_type": "stream",
     "text": [
      "Fill out spacefic rows and columns using pandas Dataframe use fillna()\n",
      "ORIGINAL DataFrame: \n",
      "   StudentID   Age  Gender  Test Score Passed Exam\n",
      "0          1  18.0    Male        85.0         Yes\n",
      "1          2  19.0  Female        92.0         Yes\n",
      "2          3  20.0    Male        78.0          No\n",
      "3          4  19.0  Female         NaN         Yes\n",
      "4          5  20.0    Male        76.0          No\n",
      "5          6  18.0    Male        90.0         Yes\n",
      "6          7  19.0  Female        82.0         Yes\n",
      "7          8   NaN  Female        68.0          No\n",
      "8          9  18.0    Male        79.0          No\n",
      "9         10  19.0    Male        94.0         Yes\n",
      "\n",
      "\n",
      "\"Modified Data Frame:\n",
      "   StudentID   Age  Gender Test Score Passed Exam\n",
      "0          1  18.0    Male       85.0         Yes\n",
      "1          2  19.0  Female       92.0         Yes\n",
      "2          3  20.0    Male       78.0          No\n",
      "3          4  19.0  Female       88.0         Yes\n",
      "4          5  20.0    Male       76.0          No\n",
      "5          6  18.0    Male       90.0         Yes\n",
      "6          7  19.0  Female       82.0         Yes\n",
      "7          8  80.0  Female       68.0          No\n",
      "8          9  18.0    Male       79.0          No\n",
      "9         10  19.0    Male       94.0         Yes\n"
     ]
    }
   ],
   "source": [
    "import pandas as pd\n",
    "dean = pd.read_csv('student2data.csv')\n",
    "print(\"Fill out spacefic rows and columns using pandas Dataframe use fillna()\")\n",
    "print(\"ORIGINAL DataFrame: \")\n",
    "print(dean)\n",
    "row_index = 3\n",
    "column_name = 'Test Score'\n",
    "new_value = '88.0'\n",
    "dean.at[row_index, column_name] = new_value\n",
    "dean.at[7, 'Age'] = 80\n",
    "print('\\n\\n\"Modified Data Frame:')\n",
    "print(dean)\n"
   ]
  },
  {
   "cell_type": "code",
   "execution_count": 25,
   "id": "06fc70ea-ca14-482f-b754-994af1a058d7",
   "metadata": {},
   "outputs": [
    {
     "name": "stdout",
     "output_type": "stream",
     "text": [
      "First 10 Rows of the DataFrame: \n",
      "   StudentID   Age  Gender Test Score Passed Exam\n",
      "0          1  18.0    Male       85.0         Yes\n",
      "1          2  19.0  Female       92.0         Yes\n",
      "2          3  20.0    Male       78.0          No\n",
      "3          4  19.0  Female       88.0         Yes\n",
      "4          5  20.0    Male       76.0          No\n",
      "5          6  18.0    Male       90.0         Yes\n",
      "6          7  19.0  Female       82.0         Yes\n",
      "7          8  80.0  Female       68.0          No\n",
      "8          9  18.0    Male       79.0          No\n",
      "9         10  19.0    Male       94.0         Yes\n",
      "Summary Statistics: \n",
      "       StudentID       Age\n",
      "count   10.00000  10.00000\n",
      "mean     5.50000  25.00000\n",
      "std      3.02765  19.33908\n",
      "min      1.00000  18.00000\n",
      "25%      3.25000  18.25000\n",
      "50%      5.50000  19.00000\n",
      "75%      7.75000  19.75000\n",
      "max     10.00000  80.00000\n",
      "\n",
      "Data Types and Non-Null Counts: \n",
      "<class 'pandas.core.frame.DataFrame'>\n",
      "RangeIndex: 10 entries, 0 to 9\n",
      "Data columns (total 5 columns):\n",
      " #   Column       Non-Null Count  Dtype  \n",
      "---  ------       --------------  -----  \n",
      " 0   StudentID    10 non-null     int64  \n",
      " 1   Age          10 non-null     float64\n",
      " 2   Gender       10 non-null     object \n",
      " 3   Test Score   10 non-null     object \n",
      " 4   Passed Exam  10 non-null     object \n",
      "dtypes: float64(1), int64(1), object(3)\n",
      "memory usage: 528.0+ bytes\n",
      "None\n",
      "\n",
      "Unique Values in 'Passed Exam' Column: \n",
      "Passed Exam\n",
      "Yes    6\n",
      "No     4\n",
      "Name: count, dtype: int64\n",
      "\n",
      "Unique Values in 'Gender' Column:\n",
      "Gender\n",
      "Male      6\n",
      "Female    4\n",
      "Name: count, dtype: int64\n"
     ]
    }
   ],
   "source": [
    "print(\"First 10 Rows of the DataFrame: \")\n",
    "print(dean.head(10))\n",
    "#Display summary statistics for columns\n",
    "print(\"Summary Statistics: \")\n",
    "print(dean.describe())\n",
    "# Display data types and no-null counts\n",
    "print(\"\\nData Types and Non-Null Counts: \")\n",
    "print(dean.info())\n",
    "#Count unique values in the 'Passes Exam' column\n",
    "print(\"\\nUnique Values in 'Passed Exam' Column: \")\n",
    "print(dean['Passed Exam'].value_counts())\n",
    "# Count unique values in the 'Gender' column\n",
    "print(\"\\nUnique Values in 'Gender' Column:\")\n",
    "print(dean['Gender'].value_counts())"
   ]
  },
  {
   "cell_type": "code",
   "execution_count": 32,
   "id": "e4316b40-cd23-4de7-9c9c-74bf6f201dc7",
   "metadata": {},
   "outputs": [
    {
     "data": {
      "image/png": "[encoded data removed]",
      "text/plain": [
       "<Figure size 800x600 with 1 Axes>"
      ]
     },
     "metadata": {},
     "output_type": "display_data"
    }
   ],
   "source": [
    "import matplotlib.pyplot as plt\n",
    "column_name = 'Age'\n",
    "unique_counts = dean[column_name].value_counts()\n",
    "plt.figure(figsize=(8,6))\n",
    "unique_counts.plot(kind='bar',color='skyblue')\n",
    "plt.title(f'Unique Counts of {column_name}')\n",
    "plt.xlabel(column_name)\n",
    "plt.ylabel('Count')\n",
    "plt.show()\n"
   ]
  },
  {
   "cell_type": "code",
   "execution_count": null,
   "id": "77e22c04-bb00-468c-9793-95604d1b76f9",
   "metadata": {},
   "outputs": [],
   "source": []
  }
 ],
 "metadata": {
  "kernelspec": {
   "display_name": "Python 3 (ipykernel)",
   "language": "python",
   "name": "python3"
  },
  "language_info": {
   "codemirror_mode": {
    "name": "ipython",
    "version": 3
   },
   "file_extension": ".py",
   "mimetype": "text/x-python",
   "name": "python",
   "nbconvert_exporter": "python",
   "pygments_lexer": "ipython3",
   "version": "3.8.10"
  }
 },
 "nbformat": 4,
 "nbformat_minor": 5
}
